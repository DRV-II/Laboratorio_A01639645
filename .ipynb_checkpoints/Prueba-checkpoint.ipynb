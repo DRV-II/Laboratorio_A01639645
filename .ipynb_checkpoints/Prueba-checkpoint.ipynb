{
 "cells": [
  {
   "cell_type": "code",
   "execution_count": null,
   "id": "84a1a088",
   "metadata": {},
   "outputs": [],
   "source": [
    "import pandas as pd\n",
    "#import numpy as np\n",
    "from matplotlib import pyplot as plt\n",
    "#import random"
   ]
  },
  {
   "cell_type": "markdown",
   "id": "dd771bf8",
   "metadata": {},
   "source": [
    "Preparando los datos"
   ]
  },
  {
   "cell_type": "markdown",
   "id": "1d13a0e6",
   "metadata": {},
   "source": [
    "Vamos a cargar el archivo de datos peso_estatura_genero."
   ]
  },
  {
   "cell_type": "code",
   "execution_count": null,
   "id": "9752fe0d",
   "metadata": {},
   "outputs": [],
   "source": [
    "df = pd.read_csv(\"peso_estatura_genero.csv\")"
   ]
  },
  {
   "cell_type": "markdown",
   "id": "f2cc9c86",
   "metadata": {},
   "source": [
    "Vamos a leer archivo y revidar contenido"
   ]
  },
  {
   "cell_type": "code",
   "execution_count": null,
   "id": "b6e37f7b",
   "metadata": {},
   "outputs": [],
   "source": [
    "# Cambio de libras a kg y pulgadas a cms\n",
    "df.Estatura = dfEstatura*2.4\n",
    "df.Peso = df.Peso/2.2\n",
    "df"
   ]
  },
  {
   "cell_type": "markdown",
   "id": "0a46e046",
   "metadata": {},
   "source": [
    "Revisando el conjunto de datos"
   ]
  },
  {
   "cell_type": "markdown",
   "id": "5d39dc66",
   "metadata": {},
   "source": [
    "shape nos permite conocer las dimensiones del DataFrame"
   ]
  },
  {
   "cell_type": "code",
   "execution_count": null,
   "id": "3fa4fc47",
   "metadata": {},
   "outputs": [],
   "source": [
    "df.shape"
   ]
  },
  {
   "cell_type": "markdown",
   "id": "e267c566",
   "metadata": {},
   "source": [
    "info nos perite conocer el tipo de dato de cada columna"
   ]
  },
  {
   "cell_type": "code",
   "execution_count": null,
   "id": "08e12bd3",
   "metadata": {},
   "outputs": [],
   "source": [
    "df.info()"
   ]
  },
  {
   "cell_type": "markdown",
   "id": "a640446b",
   "metadata": {},
   "source": [
    "colums nos muestra los indices de las columnas"
   ]
  },
  {
   "cell_type": "code",
   "execution_count": null,
   "id": "ecac8aea",
   "metadata": {},
   "outputs": [],
   "source": [
    "df.colums"
   ]
  },
  {
   "cell_type": "markdown",
   "id": "10876352",
   "metadata": {},
   "source": [
    "Para mostrar los primeros elementos de la estructura"
   ]
  },
  {
   "cell_type": "code",
   "execution_count": null,
   "id": "6b6f37cb",
   "metadata": {},
   "outputs": [],
   "source": [
    "#df = df.drop('Unnamed: 0', axis=1)\n",
    "df.head()"
   ]
  },
  {
   "cell_type": "markdown",
   "id": "d2aeeb00",
   "metadata": {},
   "source": [
    "Para generar estadisticas descriptivas"
   ]
  },
  {
   "cell_type": "code",
   "execution_count": null,
   "id": "d3ccb0f6",
   "metadata": {},
   "outputs": [],
   "source": [
    "df.describe()"
   ]
  },
  {
   "cell_type": "markdown",
   "id": "f67f42d7",
   "metadata": {},
   "source": [
    "# Mas filtros"
   ]
  },
  {
   "cell_type": "code",
   "execution_count": null,
   "id": "ed64a185",
   "metadata": {},
   "outputs": [],
   "source": [
    "more_than_190 = df[df['Estatura']>190]\n",
    "more_than_190.head(800)"
   ]
  },
  {
   "cell_type": "code",
   "execution_count": null,
   "id": "007f9cee",
   "metadata": {},
   "outputs": [],
   "source": [
    "double_filter = df[(df['Estatura'] > 190) & (df['Peso'] < 100)]\n",
    "double_filter.head(4)"
   ]
  },
  {
   "cell_type": "markdown",
   "id": "6b0ab2fc",
   "metadata": {},
   "source": [
    "# Medidas de tendencia central"
   ]
  },
  {
   "cell_type": "markdown",
   "id": "1c4ae3a9",
   "metadata": {},
   "source": [
    "## Media"
   ]
  },
  {
   "cell_type": "code",
   "execution_count": null,
   "id": "e8f79c37",
   "metadata": {},
   "outputs": [],
   "source": [
    "print('Media: ', df['Estatura'].mean())"
   ]
  }
 ],
 "metadata": {
  "kernelspec": {
   "display_name": "Python 3 (ipykernel)",
   "language": "python",
   "name": "python3"
  },
  "language_info": {
   "codemirror_mode": {
    "name": "ipython",
    "version": 3
   },
   "file_extension": ".py",
   "mimetype": "text/x-python",
   "name": "python",
   "nbconvert_exporter": "python",
   "pygments_lexer": "ipython3",
   "version": "3.9.7"
  }
 },
 "nbformat": 4,
 "nbformat_minor": 5
}
